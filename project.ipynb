{
 "cells": [
  {
   "cell_type": "markdown",
   "metadata": {},
   "source": [
    "# AIRCRAFT ACCIDENT RISK ANALYSIS\n",
    "# AUTHOR: TERESIA NJOKI\n",
    "\n",
    "# DATE:24/03/2025\n",
    "\n",
    "# PROBLEM STATEMENT\n",
    "\n",
    "Your company is expanding in to new industries to diversify its portfolio. Specifically, they are interested in purchasing and operating airplanes for commercial and private enterprises, but do not know anything about the potential risks of aircraft. You are charged with determining which aircraft are the lowest risk for the company to start this new business endeavor. You must then translate your findings into actionable insights that the head of the new aviation division can use to help decide which aircraft to purchase.\n",
    "\n",
    "# OBJECTIVE\n",
    "\n",
    "Determining which aircraft are the lowest risk for the company to purchase and start this new business endeavor,determine the best route to travel commercially and evaluating the impact of aircraft configuration,engine type and amateur built status on accidents risk.\n",
    "\n",
    "We will achieve this by analyzing potential risk of accidents by:\n",
    "\n",
    "## i)Risk anaylsis by Aircraft Model and Manufacturer\n",
    "\n",
    "## ii)Mechanical Failure by Aircraft Type\n",
    "\n",
    "## iii)Accidents Hotspots by Location\n",
    "\n",
    "## IV)Broad Phase of Aircraft\n",
    "\n",
    "\n",
    "# DATASET\n",
    "\n",
    "## https://www.kaggle.com/datasets/khsamaha/aviation-accident-database-synopses"
   ]
  },
  {
   "cell_type": "markdown",
   "metadata": {},
   "source": [
    "# 1)Import Libraries and set up"
   ]
  },
  {
   "cell_type": "code",
   "execution_count": 1,
   "metadata": {},
   "outputs": [],
   "source": [
    "import pandas as pd\n",
    "import matplotlib.pyplot as plt\n",
    "import numpy as np\n",
    "import seaborn as sns"
   ]
  },
  {
   "cell_type": "markdown",
   "metadata": {},
   "source": [
    "## 2)Load and Inspect Data"
   ]
  },
  {
   "cell_type": "code",
   "execution_count": 2,
   "metadata": {},
   "outputs": [
    {
     "name": "stderr",
     "output_type": "stream",
     "text": [
      "C:\\Users\\user\\anaconda3\\envs\\learn-env\\lib\\site-packages\\IPython\\core\\interactiveshell.py:3145: DtypeWarning: Columns (6,7,28) have mixed types.Specify dtype option on import or set low_memory=False.\n",
      "  has_raised = await self.run_ast_nodes(code_ast.body, cell_name,\n"
     ]
    },
    {
     "data": {
      "text/html": [
       "<div>\n",
       "<style scoped>\n",
       "    .dataframe tbody tr th:only-of-type {\n",
       "        vertical-align: middle;\n",
       "    }\n",
       "\n",
       "    .dataframe tbody tr th {\n",
       "        vertical-align: top;\n",
       "    }\n",
       "\n",
       "    .dataframe thead th {\n",
       "        text-align: right;\n",
       "    }\n",
       "</style>\n",
       "<table border=\"1\" class=\"dataframe\">\n",
       "  <thead>\n",
       "    <tr style=\"text-align: right;\">\n",
       "      <th></th>\n",
       "      <th>Event.Id</th>\n",
       "      <th>Investigation.Type</th>\n",
       "      <th>Accident.Number</th>\n",
       "      <th>Event.Date</th>\n",
       "      <th>Location</th>\n",
       "      <th>Country</th>\n",
       "      <th>Latitude</th>\n",
       "      <th>Longitude</th>\n",
       "      <th>Airport.Code</th>\n",
       "      <th>Airport.Name</th>\n",
       "      <th>...</th>\n",
       "      <th>Purpose.of.flight</th>\n",
       "      <th>Air.carrier</th>\n",
       "      <th>Total.Fatal.Injuries</th>\n",
       "      <th>Total.Serious.Injuries</th>\n",
       "      <th>Total.Minor.Injuries</th>\n",
       "      <th>Total.Uninjured</th>\n",
       "      <th>Weather.Condition</th>\n",
       "      <th>Broad.phase.of.flight</th>\n",
       "      <th>Report.Status</th>\n",
       "      <th>Publication.Date</th>\n",
       "    </tr>\n",
       "  </thead>\n",
       "  <tbody>\n",
       "    <tr>\n",
       "      <th>0</th>\n",
       "      <td>20001218X45444</td>\n",
       "      <td>Accident</td>\n",
       "      <td>SEA87LA080</td>\n",
       "      <td>1948-10-24</td>\n",
       "      <td>MOOSE CREEK, ID</td>\n",
       "      <td>United States</td>\n",
       "      <td>NaN</td>\n",
       "      <td>NaN</td>\n",
       "      <td>NaN</td>\n",
       "      <td>NaN</td>\n",
       "      <td>...</td>\n",
       "      <td>Personal</td>\n",
       "      <td>NaN</td>\n",
       "      <td>2.0</td>\n",
       "      <td>0.0</td>\n",
       "      <td>0.0</td>\n",
       "      <td>0.0</td>\n",
       "      <td>UNK</td>\n",
       "      <td>Cruise</td>\n",
       "      <td>Probable Cause</td>\n",
       "      <td>NaN</td>\n",
       "    </tr>\n",
       "    <tr>\n",
       "      <th>1</th>\n",
       "      <td>20001218X45447</td>\n",
       "      <td>Accident</td>\n",
       "      <td>LAX94LA336</td>\n",
       "      <td>1962-07-19</td>\n",
       "      <td>BRIDGEPORT, CA</td>\n",
       "      <td>United States</td>\n",
       "      <td>NaN</td>\n",
       "      <td>NaN</td>\n",
       "      <td>NaN</td>\n",
       "      <td>NaN</td>\n",
       "      <td>...</td>\n",
       "      <td>Personal</td>\n",
       "      <td>NaN</td>\n",
       "      <td>4.0</td>\n",
       "      <td>0.0</td>\n",
       "      <td>0.0</td>\n",
       "      <td>0.0</td>\n",
       "      <td>UNK</td>\n",
       "      <td>Unknown</td>\n",
       "      <td>Probable Cause</td>\n",
       "      <td>19-09-1996</td>\n",
       "    </tr>\n",
       "    <tr>\n",
       "      <th>2</th>\n",
       "      <td>20061025X01555</td>\n",
       "      <td>Accident</td>\n",
       "      <td>NYC07LA005</td>\n",
       "      <td>1974-08-30</td>\n",
       "      <td>Saltville, VA</td>\n",
       "      <td>United States</td>\n",
       "      <td>36.9222</td>\n",
       "      <td>-81.8781</td>\n",
       "      <td>NaN</td>\n",
       "      <td>NaN</td>\n",
       "      <td>...</td>\n",
       "      <td>Personal</td>\n",
       "      <td>NaN</td>\n",
       "      <td>3.0</td>\n",
       "      <td>NaN</td>\n",
       "      <td>NaN</td>\n",
       "      <td>NaN</td>\n",
       "      <td>IMC</td>\n",
       "      <td>Cruise</td>\n",
       "      <td>Probable Cause</td>\n",
       "      <td>26-02-2007</td>\n",
       "    </tr>\n",
       "    <tr>\n",
       "      <th>3</th>\n",
       "      <td>20001218X45448</td>\n",
       "      <td>Accident</td>\n",
       "      <td>LAX96LA321</td>\n",
       "      <td>1977-06-19</td>\n",
       "      <td>EUREKA, CA</td>\n",
       "      <td>United States</td>\n",
       "      <td>NaN</td>\n",
       "      <td>NaN</td>\n",
       "      <td>NaN</td>\n",
       "      <td>NaN</td>\n",
       "      <td>...</td>\n",
       "      <td>Personal</td>\n",
       "      <td>NaN</td>\n",
       "      <td>2.0</td>\n",
       "      <td>0.0</td>\n",
       "      <td>0.0</td>\n",
       "      <td>0.0</td>\n",
       "      <td>IMC</td>\n",
       "      <td>Cruise</td>\n",
       "      <td>Probable Cause</td>\n",
       "      <td>12-09-2000</td>\n",
       "    </tr>\n",
       "    <tr>\n",
       "      <th>4</th>\n",
       "      <td>20041105X01764</td>\n",
       "      <td>Accident</td>\n",
       "      <td>CHI79FA064</td>\n",
       "      <td>1979-08-02</td>\n",
       "      <td>Canton, OH</td>\n",
       "      <td>United States</td>\n",
       "      <td>NaN</td>\n",
       "      <td>NaN</td>\n",
       "      <td>NaN</td>\n",
       "      <td>NaN</td>\n",
       "      <td>...</td>\n",
       "      <td>Personal</td>\n",
       "      <td>NaN</td>\n",
       "      <td>1.0</td>\n",
       "      <td>2.0</td>\n",
       "      <td>NaN</td>\n",
       "      <td>0.0</td>\n",
       "      <td>VMC</td>\n",
       "      <td>Approach</td>\n",
       "      <td>Probable Cause</td>\n",
       "      <td>16-04-1980</td>\n",
       "    </tr>\n",
       "  </tbody>\n",
       "</table>\n",
       "<p>5 rows × 31 columns</p>\n",
       "</div>"
      ],
      "text/plain": [
       "         Event.Id Investigation.Type Accident.Number  Event.Date  \\\n",
       "0  20001218X45444           Accident      SEA87LA080  1948-10-24   \n",
       "1  20001218X45447           Accident      LAX94LA336  1962-07-19   \n",
       "2  20061025X01555           Accident      NYC07LA005  1974-08-30   \n",
       "3  20001218X45448           Accident      LAX96LA321  1977-06-19   \n",
       "4  20041105X01764           Accident      CHI79FA064  1979-08-02   \n",
       "\n",
       "          Location        Country Latitude Longitude Airport.Code  \\\n",
       "0  MOOSE CREEK, ID  United States      NaN       NaN          NaN   \n",
       "1   BRIDGEPORT, CA  United States      NaN       NaN          NaN   \n",
       "2    Saltville, VA  United States  36.9222  -81.8781          NaN   \n",
       "3       EUREKA, CA  United States      NaN       NaN          NaN   \n",
       "4       Canton, OH  United States      NaN       NaN          NaN   \n",
       "\n",
       "  Airport.Name  ... Purpose.of.flight Air.carrier Total.Fatal.Injuries  \\\n",
       "0          NaN  ...          Personal         NaN                  2.0   \n",
       "1          NaN  ...          Personal         NaN                  4.0   \n",
       "2          NaN  ...          Personal         NaN                  3.0   \n",
       "3          NaN  ...          Personal         NaN                  2.0   \n",
       "4          NaN  ...          Personal         NaN                  1.0   \n",
       "\n",
       "  Total.Serious.Injuries Total.Minor.Injuries Total.Uninjured  \\\n",
       "0                    0.0                  0.0             0.0   \n",
       "1                    0.0                  0.0             0.0   \n",
       "2                    NaN                  NaN             NaN   \n",
       "3                    0.0                  0.0             0.0   \n",
       "4                    2.0                  NaN             0.0   \n",
       "\n",
       "  Weather.Condition  Broad.phase.of.flight   Report.Status Publication.Date  \n",
       "0               UNK                 Cruise  Probable Cause              NaN  \n",
       "1               UNK                Unknown  Probable Cause       19-09-1996  \n",
       "2               IMC                 Cruise  Probable Cause       26-02-2007  \n",
       "3               IMC                 Cruise  Probable Cause       12-09-2000  \n",
       "4               VMC               Approach  Probable Cause       16-04-1980  \n",
       "\n",
       "[5 rows x 31 columns]"
      ]
     },
     "execution_count": 2,
     "metadata": {},
     "output_type": "execute_result"
    }
   ],
   "source": [
    "#Name dataset as unclean dataset and select head to see the first five elements\n",
    "Aviation_Data_Unclean=pd.read_csv('AviationData.csv',encoding='latin1')\n",
    "df=pd.DataFrame(Aviation_Data_Unclean)\n",
    "df.head()"
   ]
  },
  {
   "cell_type": "markdown",
   "metadata": {},
   "source": [
    "# 3)Check info and Summary Statistics of the Dataset"
   ]
  },
  {
   "cell_type": "code",
   "execution_count": 3,
   "metadata": {},
   "outputs": [
    {
     "name": "stdout",
     "output_type": "stream",
     "text": [
      "<class 'pandas.core.frame.DataFrame'>\n",
      "RangeIndex: 88889 entries, 0 to 88888\n",
      "Data columns (total 31 columns):\n",
      " #   Column                  Non-Null Count  Dtype  \n",
      "---  ------                  --------------  -----  \n",
      " 0   Event.Id                88889 non-null  object \n",
      " 1   Investigation.Type      88889 non-null  object \n",
      " 2   Accident.Number         88889 non-null  object \n",
      " 3   Event.Date              88889 non-null  object \n",
      " 4   Location                88837 non-null  object \n",
      " 5   Country                 88663 non-null  object \n",
      " 6   Latitude                34382 non-null  object \n",
      " 7   Longitude               34373 non-null  object \n",
      " 8   Airport.Code            50249 non-null  object \n",
      " 9   Airport.Name            52790 non-null  object \n",
      " 10  Injury.Severity         87889 non-null  object \n",
      " 11  Aircraft.damage         85695 non-null  object \n",
      " 12  Aircraft.Category       32287 non-null  object \n",
      " 13  Registration.Number     87572 non-null  object \n",
      " 14  Make                    88826 non-null  object \n",
      " 15  Model                   88797 non-null  object \n",
      " 16  Amateur.Built           88787 non-null  object \n",
      " 17  Number.of.Engines       82805 non-null  float64\n",
      " 18  Engine.Type             81812 non-null  object \n",
      " 19  FAR.Description         32023 non-null  object \n",
      " 20  Schedule                12582 non-null  object \n",
      " 21  Purpose.of.flight       82697 non-null  object \n",
      " 22  Air.carrier             16648 non-null  object \n",
      " 23  Total.Fatal.Injuries    77488 non-null  float64\n",
      " 24  Total.Serious.Injuries  76379 non-null  float64\n",
      " 25  Total.Minor.Injuries    76956 non-null  float64\n",
      " 26  Total.Uninjured         82977 non-null  float64\n",
      " 27  Weather.Condition       84397 non-null  object \n",
      " 28  Broad.phase.of.flight   61724 non-null  object \n",
      " 29  Report.Status           82508 non-null  object \n",
      " 30  Publication.Date        75118 non-null  object \n",
      "dtypes: float64(5), object(26)\n",
      "memory usage: 21.0+ MB\n"
     ]
    }
   ],
   "source": [
    "#check info of the dataset\n",
    "df.info()"
   ]
  },
  {
   "cell_type": "markdown",
   "metadata": {},
   "source": [
    "From the information above we can see that our dataset has 88889 entries and 31 columns of type floats and objects.We can also detect some missing values on some columns ie: Location,Country,Latitude,Longitude,Airport.Code,Airport.Name,Injury.Severity,Aircraft.damage,Airport.Category,Registration.Number,Make,Model,Amateur Built,Number.of.Engines,Engine.Type,FAR Description,\n",
    "Report.Status and Publication.Date"
   ]
  },
  {
   "cell_type": "code",
   "execution_count": 4,
   "metadata": {},
   "outputs": [
    {
     "name": "stdout",
     "output_type": "stream",
     "text": [
      "This data set consists of 88889 rows\n",
      "This data set consists of 31 columns\n"
     ]
    }
   ],
   "source": [
    "#check shape of the dataset to know how many columns and rows it has\n",
    "df.shape\n",
    "print(f'This data set consists of {df.shape[0]} rows')\n",
    "print(f'This data set consists of {df.shape[1]} columns')"
   ]
  },
  {
   "cell_type": "code",
   "execution_count": 5,
   "metadata": {},
   "outputs": [
    {
     "data": {
      "text/html": [
       "<div>\n",
       "<style scoped>\n",
       "    .dataframe tbody tr th:only-of-type {\n",
       "        vertical-align: middle;\n",
       "    }\n",
       "\n",
       "    .dataframe tbody tr th {\n",
       "        vertical-align: top;\n",
       "    }\n",
       "\n",
       "    .dataframe thead th {\n",
       "        text-align: right;\n",
       "    }\n",
       "</style>\n",
       "<table border=\"1\" class=\"dataframe\">\n",
       "  <thead>\n",
       "    <tr style=\"text-align: right;\">\n",
       "      <th></th>\n",
       "      <th>Number.of.Engines</th>\n",
       "      <th>Total.Fatal.Injuries</th>\n",
       "      <th>Total.Serious.Injuries</th>\n",
       "      <th>Total.Minor.Injuries</th>\n",
       "      <th>Total.Uninjured</th>\n",
       "    </tr>\n",
       "  </thead>\n",
       "  <tbody>\n",
       "    <tr>\n",
       "      <th>count</th>\n",
       "      <td>82805.000000</td>\n",
       "      <td>77488.000000</td>\n",
       "      <td>76379.000000</td>\n",
       "      <td>76956.000000</td>\n",
       "      <td>82977.000000</td>\n",
       "    </tr>\n",
       "    <tr>\n",
       "      <th>mean</th>\n",
       "      <td>1.146585</td>\n",
       "      <td>0.647855</td>\n",
       "      <td>0.279881</td>\n",
       "      <td>0.357061</td>\n",
       "      <td>5.325440</td>\n",
       "    </tr>\n",
       "    <tr>\n",
       "      <th>std</th>\n",
       "      <td>0.446510</td>\n",
       "      <td>5.485960</td>\n",
       "      <td>1.544084</td>\n",
       "      <td>2.235625</td>\n",
       "      <td>27.913634</td>\n",
       "    </tr>\n",
       "    <tr>\n",
       "      <th>min</th>\n",
       "      <td>0.000000</td>\n",
       "      <td>0.000000</td>\n",
       "      <td>0.000000</td>\n",
       "      <td>0.000000</td>\n",
       "      <td>0.000000</td>\n",
       "    </tr>\n",
       "    <tr>\n",
       "      <th>25%</th>\n",
       "      <td>1.000000</td>\n",
       "      <td>0.000000</td>\n",
       "      <td>0.000000</td>\n",
       "      <td>0.000000</td>\n",
       "      <td>0.000000</td>\n",
       "    </tr>\n",
       "    <tr>\n",
       "      <th>50%</th>\n",
       "      <td>1.000000</td>\n",
       "      <td>0.000000</td>\n",
       "      <td>0.000000</td>\n",
       "      <td>0.000000</td>\n",
       "      <td>1.000000</td>\n",
       "    </tr>\n",
       "    <tr>\n",
       "      <th>75%</th>\n",
       "      <td>1.000000</td>\n",
       "      <td>0.000000</td>\n",
       "      <td>0.000000</td>\n",
       "      <td>0.000000</td>\n",
       "      <td>2.000000</td>\n",
       "    </tr>\n",
       "    <tr>\n",
       "      <th>max</th>\n",
       "      <td>8.000000</td>\n",
       "      <td>349.000000</td>\n",
       "      <td>161.000000</td>\n",
       "      <td>380.000000</td>\n",
       "      <td>699.000000</td>\n",
       "    </tr>\n",
       "  </tbody>\n",
       "</table>\n",
       "</div>"
      ],
      "text/plain": [
       "       Number.of.Engines  Total.Fatal.Injuries  Total.Serious.Injuries  \\\n",
       "count       82805.000000          77488.000000            76379.000000   \n",
       "mean            1.146585              0.647855                0.279881   \n",
       "std             0.446510              5.485960                1.544084   \n",
       "min             0.000000              0.000000                0.000000   \n",
       "25%             1.000000              0.000000                0.000000   \n",
       "50%             1.000000              0.000000                0.000000   \n",
       "75%             1.000000              0.000000                0.000000   \n",
       "max             8.000000            349.000000              161.000000   \n",
       "\n",
       "       Total.Minor.Injuries  Total.Uninjured  \n",
       "count          76956.000000     82977.000000  \n",
       "mean               0.357061         5.325440  \n",
       "std                2.235625        27.913634  \n",
       "min                0.000000         0.000000  \n",
       "25%                0.000000         0.000000  \n",
       "50%                0.000000         1.000000  \n",
       "75%                0.000000         2.000000  \n",
       "max              380.000000       699.000000  "
      ]
     },
     "execution_count": 5,
     "metadata": {},
     "output_type": "execute_result"
    }
   ],
   "source": [
    "#check summary statistics of the Dataset\n",
    "df.describe()"
   ]
  },
  {
   "cell_type": "markdown",
   "metadata": {},
   "source": [
    "# 4)Data Cleaning and Reprocessing\n",
    "\n",
    "## a)Check Dataset for Duplicate values\n"
   ]
  },
  {
   "cell_type": "code",
   "execution_count": 6,
   "metadata": {},
   "outputs": [
    {
     "name": "stdout",
     "output_type": "stream",
     "text": [
      "False    88889\n",
      "dtype: int64\n",
      "0\n"
     ]
    }
   ],
   "source": [
    "#check for duplicate values\n",
    "df_duplicates=df.duplicated().value_counts()\n",
    "print(df_duplicates)\n",
    "#check for length of duplicate values\n",
    "duplicates=df[df.duplicated()]\n",
    "print(len(duplicates))"
   ]
  },
  {
   "cell_type": "markdown",
   "metadata": {},
   "source": [
    "From the ouput above our dataset has no duplicate values"
   ]
  },
  {
   "cell_type": "markdown",
   "metadata": {},
   "source": [
    "## b)Check Dataset for Erraneous /Eronous values"
   ]
  },
  {
   "cell_type": "code",
   "execution_count": 7,
   "metadata": {},
   "outputs": [
    {
     "name": "stdout",
     "output_type": "stream",
     "text": [
      "Event.Id \n",
      " 20001212X19172    0.000034\n",
      "20001214X45071    0.000034\n",
      "20001206X01549    0.000022\n",
      "20061015X01521    0.000022\n",
      "20001213X34415    0.000022\n",
      "Name: Event.Id, dtype: float64 \n",
      "\n",
      "\n",
      "Investigation.Type \n",
      " Accident    0.956418\n",
      "Incident    0.043582\n",
      "Name: Investigation.Type, dtype: float64 \n",
      "\n",
      "\n",
      "Accident.Number \n",
      " DCA22WA089    0.000022\n",
      "ERA22LA364    0.000022\n",
      "CEN22LA149    0.000022\n",
      "DCA22WA130    0.000022\n",
      "WPR22FA309    0.000022\n",
      "Name: Accident.Number, dtype: float64 \n",
      "\n",
      "\n",
      "Event.Date \n",
      " 1984-06-30    0.000281\n",
      "1982-05-16    0.000281\n",
      "2000-07-08    0.000281\n",
      "1986-05-17    0.000270\n",
      "1984-08-25    0.000270\n",
      "Name: Event.Date, dtype: float64 \n",
      "\n",
      "\n",
      "Location \n",
      " ANCHORAGE, AK      0.004885\n",
      "MIAMI, FL          0.002251\n",
      "ALBUQUERQUE, NM    0.002206\n",
      "HOUSTON, TX        0.002173\n",
      "CHICAGO, IL        0.002071\n",
      "Name: Location, dtype: float64 \n",
      "\n",
      "\n",
      "Country \n",
      " United States     0.927647\n",
      "Brazil            0.004218\n",
      "Canada            0.004049\n",
      "Mexico            0.004038\n",
      "United Kingdom    0.003880\n",
      "Name: Country, dtype: float64 \n",
      "\n",
      "\n",
      "Latitude \n",
      " 332739N      0.000553\n",
      "335219N      0.000524\n",
      "334118N      0.000494\n",
      "32.815556    0.000494\n",
      "324934N      0.000465\n",
      "Name: Latitude, dtype: float64 \n",
      "\n",
      "\n",
      "Longitude \n",
      " 0112457W       0.000698\n",
      "1114342W       0.000524\n",
      "1151140W       0.000495\n",
      "-104.673056    0.000495\n",
      "-112.0825      0.000465\n",
      "Name: Longitude, dtype: float64 \n",
      "\n",
      "\n",
      "Airport.Code \n",
      " NONE    0.029613\n",
      "PVT     0.009652\n",
      "APA     0.003184\n",
      "ORD     0.002965\n",
      "MRI     0.002726\n",
      "Name: Airport.Code, dtype: float64 \n",
      "\n",
      "\n",
      "Airport.Name \n",
      " Private             0.004546\n",
      "PRIVATE             0.004243\n",
      "Private Airstrip    0.002898\n",
      "NONE                0.002766\n",
      "PRIVATE STRIP       0.002103\n",
      "Name: Airport.Name, dtype: float64 \n",
      "\n",
      "\n",
      "Injury.Severity \n",
      " Non-Fatal    0.766387\n",
      "Fatal(1)     0.070168\n",
      "Fatal        0.059871\n",
      "Fatal(2)     0.042224\n",
      "Incident     0.025248\n",
      "Name: Injury.Severity, dtype: float64 \n",
      "\n",
      "\n",
      "Aircraft.damage \n",
      " Substantial    0.748562\n",
      "Destroyed      0.217317\n",
      "Minor          0.032732\n",
      "Unknown        0.001389\n",
      "Name: Aircraft.damage, dtype: float64 \n",
      "\n",
      "\n",
      "Aircraft.Category \n",
      " Airplane      0.855360\n",
      "Helicopter    0.106544\n",
      "Glider        0.015734\n",
      "Balloon       0.007155\n",
      "Gyrocraft     0.005358\n",
      "Name: Aircraft.Category, dtype: float64 \n",
      "\n",
      "\n",
      "Registration.Number \n",
      " NONE     0.003928\n",
      "UNREG    0.001439\n",
      "None     0.000742\n",
      "UNK      0.000148\n",
      "USAF     0.000103\n",
      "Name: Registration.Number, dtype: float64 \n",
      "\n",
      "\n",
      "Make \n",
      " Cessna    0.250231\n",
      "Piper     0.135422\n",
      "CESSNA    0.055412\n",
      "Beech     0.048747\n",
      "PIPER     0.031984\n",
      "Name: Make, dtype: float64 \n",
      "\n",
      "\n",
      "Model \n",
      " 152          0.026656\n",
      "172          0.019775\n",
      "172N         0.013109\n",
      "PA-28-140    0.010496\n",
      "150          0.009336\n",
      "Name: Model, dtype: float64 \n",
      "\n",
      "\n",
      "Amateur.Built \n",
      " No     0.904547\n",
      "Yes    0.095453\n",
      "Name: Amateur.Built, dtype: float64 \n",
      "\n",
      "\n",
      "Number.of.Engines \n",
      " 1.0    0.840312\n",
      "2.0    0.133796\n",
      "0.0    0.014806\n",
      "3.0    0.005833\n",
      "4.0    0.005205\n",
      "Name: Number.of.Engines, dtype: float64 \n",
      "\n",
      "\n",
      "Engine.Type \n",
      " Reciprocating    0.849875\n",
      "Turbo Shaft      0.044113\n",
      "Turbo Prop       0.041449\n",
      "Turbo Fan        0.030326\n",
      "Unknown          0.025070\n",
      "Name: Engine.Type, dtype: float64 \n",
      "\n",
      "\n",
      "FAR.Description \n",
      " 091                          0.568997\n",
      "Part 91: General Aviation    0.202542\n",
      "NUSN                         0.049464\n",
      "NUSC                         0.031634\n",
      "137                          0.031540\n",
      "Name: FAR.Description, dtype: float64 \n",
      "\n",
      "\n",
      "Schedule \n",
      " NSCH    0.355587\n",
      "UNK     0.325783\n",
      "SCHD    0.318630\n",
      "Name: Schedule, dtype: float64 \n",
      "\n",
      "\n",
      "Purpose.of.flight \n",
      " Personal              0.597942\n",
      "Instructional         0.128191\n",
      "Unknown               0.082252\n",
      "Aerial Application    0.056979\n",
      "Business              0.048587\n",
      "Name: Purpose.of.flight, dtype: float64 \n",
      "\n",
      "\n",
      "Air.carrier \n",
      " Pilot                    0.015497\n",
      "American Airlines        0.005406\n",
      "United Airlines          0.005346\n",
      "Delta Air Lines          0.003184\n",
      "SOUTHWEST AIRLINES CO    0.002523\n",
      "Name: Air.carrier, dtype: float64 \n",
      "\n",
      "\n",
      "Total.Fatal.Injuries \n",
      " 0.0    0.770119\n",
      "1.0    0.114637\n",
      "2.0    0.066759\n",
      "3.0    0.020506\n",
      "4.0    0.014234\n",
      "Name: Total.Fatal.Injuries, dtype: float64 \n",
      "\n",
      "\n",
      "Total.Serious.Injuries \n",
      " 0.0    0.828618\n",
      "1.0    0.119470\n",
      "2.0    0.036856\n",
      "3.0    0.008235\n",
      "4.0    0.003378\n",
      "Name: Total.Serious.Injuries, dtype: float64 \n",
      "\n",
      "\n",
      "Total.Minor.Injuries \n",
      " 0.0    0.798560\n",
      "1.0    0.134103\n",
      "2.0    0.046468\n",
      "3.0    0.010188\n",
      "4.0    0.004834\n",
      "Name: Total.Minor.Injuries, dtype: float64 \n",
      "\n",
      "\n",
      "Total.Uninjured \n",
      " 0.0    0.360088\n",
      "1.0    0.302506\n",
      "2.0    0.192680\n",
      "3.0    0.051978\n",
      "4.0    0.032081\n",
      "Name: Total.Uninjured, dtype: float64 \n",
      "\n",
      "\n",
      "Weather.Condition \n",
      " VMC    0.915945\n",
      "IMC    0.070808\n",
      "UNK    0.010143\n",
      "Unk    0.003104\n",
      "Name: Weather.Condition, dtype: float64 \n",
      "\n",
      "\n",
      "Broad.phase.of.flight \n",
      " Landing        0.249951\n",
      "Takeoff        0.202401\n",
      "Cruise         0.166370\n",
      "Maneuvering    0.131942\n",
      "Approach       0.106053\n",
      "Name: Broad.phase.of.flight, dtype: float64 \n",
      "\n",
      "\n",
      "Report.Status \n",
      " Probable Cause                                                                  0.748461\n",
      "Foreign                                                                         0.024228\n",
      "<br /><br />                                                                    0.002024\n",
      "Factual                                                                         0.001757\n",
      "The pilot's failure to maintain directional control during the landing roll.    0.000679\n",
      "Name: Report.Status, dtype: float64 \n",
      "\n",
      "\n",
      "Publication.Date \n",
      " 25-09-2020    0.226564\n",
      "26-09-2020    0.023550\n",
      "03-11-2020    0.015376\n",
      "31-03-1993    0.006017\n",
      "25-11-2003    0.005272\n",
      "Name: Publication.Date, dtype: float64 \n",
      "\n",
      "\n"
     ]
    }
   ],
   "source": [
    "#check for erraneous/erronous values\n",
    "for col in df.columns:\n",
    "    print(col,'\\n',df[col].value_counts(normalize=True).head(), '\\n\\n')"
   ]
  },
  {
   "cell_type": "markdown",
   "metadata": {},
   "source": [
    "## c)Check for Missing Values"
   ]
  },
  {
   "cell_type": "code",
   "execution_count": 8,
   "metadata": {},
   "outputs": [
    {
     "data": {
      "text/plain": [
       "Event.Id                      0\n",
       "Investigation.Type            0\n",
       "Accident.Number               0\n",
       "Event.Date                    0\n",
       "Location                     52\n",
       "Country                     226\n",
       "Latitude                  54507\n",
       "Longitude                 54516\n",
       "Airport.Code              38640\n",
       "Airport.Name              36099\n",
       "Injury.Severity            1000\n",
       "Aircraft.damage            3194\n",
       "Aircraft.Category         56602\n",
       "Registration.Number        1317\n",
       "Make                         63\n",
       "Model                        92\n",
       "Amateur.Built               102\n",
       "Number.of.Engines          6084\n",
       "Engine.Type                7077\n",
       "FAR.Description           56866\n",
       "Schedule                  76307\n",
       "Purpose.of.flight          6192\n",
       "Air.carrier               72241\n",
       "Total.Fatal.Injuries      11401\n",
       "Total.Serious.Injuries    12510\n",
       "Total.Minor.Injuries      11933\n",
       "Total.Uninjured            5912\n",
       "Weather.Condition          4492\n",
       "Broad.phase.of.flight     27165\n",
       "Report.Status              6381\n",
       "Publication.Date          13771\n",
       "dtype: int64"
      ]
     },
     "execution_count": 8,
     "metadata": {},
     "output_type": "execute_result"
    }
   ],
   "source": [
    "#check for missing values\n",
    "df.isna().sum()"
   ]
  },
  {
   "cell_type": "markdown",
   "metadata": {},
   "source": [
    "From the Dataset output we tend to have alot of missing values in the columns section,for the non critical columns we will drop the columns which more than 50% of their data is missing."
   ]
  },
  {
   "cell_type": "code",
   "execution_count": 9,
   "metadata": {},
   "outputs": [
    {
     "name": "stdout",
     "output_type": "stream",
     "text": [
      "Index(['Event.Id', 'Investigation.Type', 'Accident.Number', 'Event.Date',\n",
      "       'Location', 'Country', 'Latitude', 'Longitude', 'Airport.Code',\n",
      "       'Airport.Name', 'Injury.Severity', 'Aircraft.damage',\n",
      "       'Aircraft.Category', 'Registration.Number', 'Make', 'Model',\n",
      "       'Amateur.Built', 'Number.of.Engines', 'Engine.Type', 'FAR.Description',\n",
      "       'Schedule', 'Purpose.of.flight', 'Air.carrier', 'Total.Fatal.Injuries',\n",
      "       'Total.Serious.Injuries', 'Total.Minor.Injuries', 'Total.Uninjured',\n",
      "       'Weather.Condition', 'Broad.phase.of.flight', 'Report.Status',\n",
      "       'Publication.Date'],\n",
      "      dtype='object')\n"
     ]
    }
   ],
   "source": [
    "#list all column names\n",
    "print(df.columns)"
   ]
  },
  {
   "cell_type": "code",
   "execution_count": 10,
   "metadata": {},
   "outputs": [],
   "source": [
    "#dropping the columns that have more than 50% of their data missing and are not critical.\n",
    "df=df.drop(['Aircraft.Category','FAR.Description','Air.carrier','Schedule'],axis=1,errors='ignore')"
   ]
  },
  {
   "cell_type": "code",
   "execution_count": 11,
   "metadata": {},
   "outputs": [
    {
     "data": {
      "text/plain": [
       "(88889, 27)"
      ]
     },
     "execution_count": 11,
     "metadata": {},
     "output_type": "execute_result"
    }
   ],
   "source": [
    "#find out if they have been dropped,they should now be 27 columns\n",
    "df.shape"
   ]
  },
  {
   "cell_type": "markdown",
   "metadata": {},
   "source": [
    "Now we will fill the null values in our remaining columns.For the numerical(continous)columns we will fill the null values with the median and for the categorical columns with unknown string."
   ]
  },
  {
   "cell_type": "code",
   "execution_count": 12,
   "metadata": {},
   "outputs": [
    {
     "name": "stdout",
     "output_type": "stream",
     "text": [
      "String (Object) Columns: ['Event.Id', 'Investigation.Type', 'Accident.Number', 'Event.Date', 'Location', 'Country', 'Latitude', 'Longitude', 'Airport.Code', 'Airport.Name', 'Injury.Severity', 'Aircraft.damage', 'Registration.Number', 'Make', 'Model', 'Amateur.Built', 'Engine.Type', 'Purpose.of.flight', 'Weather.Condition', 'Broad.phase.of.flight', 'Report.Status', 'Publication.Date']\n",
      "Integer Columns: []\n"
     ]
    }
   ],
   "source": [
    "#lets find out the number of strings/integers in our dataset\n",
    "string_columns = df.select_dtypes(include=['object']).columns.tolist()\n",
    "integer_columns = df.select_dtypes(include=['int64']).columns.tolist()\n",
    "print(\"String (Object) Columns:\", string_columns)\n",
    "print(\"Integer Columns:\", integer_columns)"
   ]
  },
  {
   "cell_type": "markdown",
   "metadata": {},
   "source": [
    "lets convert latitude and longitutude to floats(numerical columns) for mapping."
   ]
  },
  {
   "cell_type": "code",
   "execution_count": 13,
   "metadata": {},
   "outputs": [
    {
     "name": "stdout",
     "output_type": "stream",
     "text": [
      "Latitude     float64\n",
      "Longitude    float64\n",
      "dtype: object\n"
     ]
    }
   ],
   "source": [
    "# Convert to float\n",
    "df['Latitude'] = pd.to_numeric(df['Latitude'], errors='coerce')\n",
    "df['Longitude'] = pd.to_numeric(df['Longitude'], errors='coerce')\n",
    "\n",
    "# Verify if conversion is successful\n",
    "print(df[['Latitude', 'Longitude']].dtypes)"
   ]
  },
  {
   "cell_type": "code",
   "execution_count": 14,
   "metadata": {},
   "outputs": [],
   "source": [
    "#lets fill  the null values in the categorical(string objects) with unnknown string\n",
    "df_clean=df.copy()\n",
    "columns_to_fill=['Event.Id', 'Investigation.Type', 'Accident.Number', 'Event.Date','Location', 'Country', 'Airport.Code', 'Airport.Name', 'Injury.Severity', 'Aircraft.damage', 'Registration.Number', 'Make', 'Model', 'Amateur.Built', 'Engine.Type', 'Purpose.of.flight', 'Weather.Condition', 'Broad.phase.of.flight', 'Report.Status', 'Publication.Date']\n",
    "df_clean[columns_to_fill] = df_clean[columns_to_fill].fillna('Unknown')\n",
    "#lets fill the null values in the numerical columns with median\n",
    "columns_to_fill=['Number.of.Engines','Total.Fatal.Injuries','Total.Serious.Injuries','Total.Minor.Injuries','Total.Uninjured','Latitude', 'Longitude']\n",
    "df_clean[columns_to_fill] = df_clean[columns_to_fill].fillna(df_clean[columns_to_fill].median())"
   ]
  },
  {
   "cell_type": "code",
   "execution_count": 15,
   "metadata": {},
   "outputs": [
    {
     "name": "stdout",
     "output_type": "stream",
     "text": [
      "Event.Id                  0\n",
      "Investigation.Type        0\n",
      "Accident.Number           0\n",
      "Event.Date                0\n",
      "Location                  0\n",
      "Country                   0\n",
      "Latitude                  0\n",
      "Longitude                 0\n",
      "Airport.Code              0\n",
      "Airport.Name              0\n",
      "Injury.Severity           0\n",
      "Aircraft.damage           0\n",
      "Registration.Number       0\n",
      "Make                      0\n",
      "Model                     0\n",
      "Amateur.Built             0\n",
      "Number.of.Engines         0\n",
      "Engine.Type               0\n",
      "Purpose.of.flight         0\n",
      "Total.Fatal.Injuries      0\n",
      "Total.Serious.Injuries    0\n",
      "Total.Minor.Injuries      0\n",
      "Total.Uninjured           0\n",
      "Weather.Condition         0\n",
      "Broad.phase.of.flight     0\n",
      "Report.Status             0\n",
      "Publication.Date          0\n",
      "dtype: int64\n"
     ]
    }
   ],
   "source": [
    "#print to see if their any nan values left\n",
    "print(df_clean.isnull().sum())"
   ]
  },
  {
   "cell_type": "markdown",
   "metadata": {},
   "source": [
    "From the output above we can see their are no null values present in the columns and we can now display the clean Data Frame"
   ]
  },
  {
   "cell_type": "code",
   "execution_count": 16,
   "metadata": {},
   "outputs": [
    {
     "name": "stdout",
     "output_type": "stream",
     "text": [
      "<class 'pandas.core.frame.DataFrame'>\n",
      "RangeIndex: 88889 entries, 0 to 88888\n",
      "Data columns (total 27 columns):\n",
      " #   Column                  Non-Null Count  Dtype  \n",
      "---  ------                  --------------  -----  \n",
      " 0   Event.Id                88889 non-null  object \n",
      " 1   Investigation.Type      88889 non-null  object \n",
      " 2   Accident.Number         88889 non-null  object \n",
      " 3   Event.Date              88889 non-null  object \n",
      " 4   Location                88889 non-null  object \n",
      " 5   Country                 88889 non-null  object \n",
      " 6   Latitude                88889 non-null  float64\n",
      " 7   Longitude               88889 non-null  float64\n",
      " 8   Airport.Code            88889 non-null  object \n",
      " 9   Airport.Name            88889 non-null  object \n",
      " 10  Injury.Severity         88889 non-null  object \n",
      " 11  Aircraft.damage         88889 non-null  object \n",
      " 12  Registration.Number     88889 non-null  object \n",
      " 13  Make                    88889 non-null  object \n",
      " 14  Model                   88889 non-null  object \n",
      " 15  Amateur.Built           88889 non-null  object \n",
      " 16  Number.of.Engines       88889 non-null  float64\n",
      " 17  Engine.Type             88889 non-null  object \n",
      " 18  Purpose.of.flight       88889 non-null  object \n",
      " 19  Total.Fatal.Injuries    88889 non-null  float64\n",
      " 20  Total.Serious.Injuries  88889 non-null  float64\n",
      " 21  Total.Minor.Injuries    88889 non-null  float64\n",
      " 22  Total.Uninjured         88889 non-null  float64\n",
      " 23  Weather.Condition       88889 non-null  object \n",
      " 24  Broad.phase.of.flight   88889 non-null  object \n",
      " 25  Report.Status           88889 non-null  object \n",
      " 26  Publication.Date        88889 non-null  object \n",
      "dtypes: float64(7), object(20)\n",
      "memory usage: 18.3+ MB\n",
      "None\n"
     ]
    },
    {
     "data": {
      "text/html": [
       "<div>\n",
       "<style scoped>\n",
       "    .dataframe tbody tr th:only-of-type {\n",
       "        vertical-align: middle;\n",
       "    }\n",
       "\n",
       "    .dataframe tbody tr th {\n",
       "        vertical-align: top;\n",
       "    }\n",
       "\n",
       "    .dataframe thead th {\n",
       "        text-align: right;\n",
       "    }\n",
       "</style>\n",
       "<table border=\"1\" class=\"dataframe\">\n",
       "  <thead>\n",
       "    <tr style=\"text-align: right;\">\n",
       "      <th></th>\n",
       "      <th>Event.Id</th>\n",
       "      <th>Investigation.Type</th>\n",
       "      <th>Accident.Number</th>\n",
       "      <th>Event.Date</th>\n",
       "      <th>Location</th>\n",
       "      <th>Country</th>\n",
       "      <th>Latitude</th>\n",
       "      <th>Longitude</th>\n",
       "      <th>Airport.Code</th>\n",
       "      <th>Airport.Name</th>\n",
       "      <th>...</th>\n",
       "      <th>Engine.Type</th>\n",
       "      <th>Purpose.of.flight</th>\n",
       "      <th>Total.Fatal.Injuries</th>\n",
       "      <th>Total.Serious.Injuries</th>\n",
       "      <th>Total.Minor.Injuries</th>\n",
       "      <th>Total.Uninjured</th>\n",
       "      <th>Weather.Condition</th>\n",
       "      <th>Broad.phase.of.flight</th>\n",
       "      <th>Report.Status</th>\n",
       "      <th>Publication.Date</th>\n",
       "    </tr>\n",
       "  </thead>\n",
       "  <tbody>\n",
       "    <tr>\n",
       "      <th>0</th>\n",
       "      <td>20001218X45444</td>\n",
       "      <td>Accident</td>\n",
       "      <td>SEA87LA080</td>\n",
       "      <td>1948-10-24</td>\n",
       "      <td>MOOSE CREEK, ID</td>\n",
       "      <td>United States</td>\n",
       "      <td>38.167361</td>\n",
       "      <td>-95.478611</td>\n",
       "      <td>Unknown</td>\n",
       "      <td>Unknown</td>\n",
       "      <td>...</td>\n",
       "      <td>Reciprocating</td>\n",
       "      <td>Personal</td>\n",
       "      <td>2.0</td>\n",
       "      <td>0.0</td>\n",
       "      <td>0.0</td>\n",
       "      <td>0.0</td>\n",
       "      <td>UNK</td>\n",
       "      <td>Cruise</td>\n",
       "      <td>Probable Cause</td>\n",
       "      <td>Unknown</td>\n",
       "    </tr>\n",
       "    <tr>\n",
       "      <th>1</th>\n",
       "      <td>20001218X45447</td>\n",
       "      <td>Accident</td>\n",
       "      <td>LAX94LA336</td>\n",
       "      <td>1962-07-19</td>\n",
       "      <td>BRIDGEPORT, CA</td>\n",
       "      <td>United States</td>\n",
       "      <td>38.167361</td>\n",
       "      <td>-95.478611</td>\n",
       "      <td>Unknown</td>\n",
       "      <td>Unknown</td>\n",
       "      <td>...</td>\n",
       "      <td>Reciprocating</td>\n",
       "      <td>Personal</td>\n",
       "      <td>4.0</td>\n",
       "      <td>0.0</td>\n",
       "      <td>0.0</td>\n",
       "      <td>0.0</td>\n",
       "      <td>UNK</td>\n",
       "      <td>Unknown</td>\n",
       "      <td>Probable Cause</td>\n",
       "      <td>19-09-1996</td>\n",
       "    </tr>\n",
       "    <tr>\n",
       "      <th>2</th>\n",
       "      <td>20061025X01555</td>\n",
       "      <td>Accident</td>\n",
       "      <td>NYC07LA005</td>\n",
       "      <td>1974-08-30</td>\n",
       "      <td>Saltville, VA</td>\n",
       "      <td>United States</td>\n",
       "      <td>36.922223</td>\n",
       "      <td>-81.878056</td>\n",
       "      <td>Unknown</td>\n",
       "      <td>Unknown</td>\n",
       "      <td>...</td>\n",
       "      <td>Reciprocating</td>\n",
       "      <td>Personal</td>\n",
       "      <td>3.0</td>\n",
       "      <td>0.0</td>\n",
       "      <td>0.0</td>\n",
       "      <td>1.0</td>\n",
       "      <td>IMC</td>\n",
       "      <td>Cruise</td>\n",
       "      <td>Probable Cause</td>\n",
       "      <td>26-02-2007</td>\n",
       "    </tr>\n",
       "    <tr>\n",
       "      <th>3</th>\n",
       "      <td>20001218X45448</td>\n",
       "      <td>Accident</td>\n",
       "      <td>LAX96LA321</td>\n",
       "      <td>1977-06-19</td>\n",
       "      <td>EUREKA, CA</td>\n",
       "      <td>United States</td>\n",
       "      <td>38.167361</td>\n",
       "      <td>-95.478611</td>\n",
       "      <td>Unknown</td>\n",
       "      <td>Unknown</td>\n",
       "      <td>...</td>\n",
       "      <td>Reciprocating</td>\n",
       "      <td>Personal</td>\n",
       "      <td>2.0</td>\n",
       "      <td>0.0</td>\n",
       "      <td>0.0</td>\n",
       "      <td>0.0</td>\n",
       "      <td>IMC</td>\n",
       "      <td>Cruise</td>\n",
       "      <td>Probable Cause</td>\n",
       "      <td>12-09-2000</td>\n",
       "    </tr>\n",
       "    <tr>\n",
       "      <th>4</th>\n",
       "      <td>20041105X01764</td>\n",
       "      <td>Accident</td>\n",
       "      <td>CHI79FA064</td>\n",
       "      <td>1979-08-02</td>\n",
       "      <td>Canton, OH</td>\n",
       "      <td>United States</td>\n",
       "      <td>38.167361</td>\n",
       "      <td>-95.478611</td>\n",
       "      <td>Unknown</td>\n",
       "      <td>Unknown</td>\n",
       "      <td>...</td>\n",
       "      <td>Unknown</td>\n",
       "      <td>Personal</td>\n",
       "      <td>1.0</td>\n",
       "      <td>2.0</td>\n",
       "      <td>0.0</td>\n",
       "      <td>0.0</td>\n",
       "      <td>VMC</td>\n",
       "      <td>Approach</td>\n",
       "      <td>Probable Cause</td>\n",
       "      <td>16-04-1980</td>\n",
       "    </tr>\n",
       "  </tbody>\n",
       "</table>\n",
       "<p>5 rows × 27 columns</p>\n",
       "</div>"
      ],
      "text/plain": [
       "         Event.Id Investigation.Type Accident.Number  Event.Date  \\\n",
       "0  20001218X45444           Accident      SEA87LA080  1948-10-24   \n",
       "1  20001218X45447           Accident      LAX94LA336  1962-07-19   \n",
       "2  20061025X01555           Accident      NYC07LA005  1974-08-30   \n",
       "3  20001218X45448           Accident      LAX96LA321  1977-06-19   \n",
       "4  20041105X01764           Accident      CHI79FA064  1979-08-02   \n",
       "\n",
       "          Location        Country   Latitude  Longitude Airport.Code  \\\n",
       "0  MOOSE CREEK, ID  United States  38.167361 -95.478611      Unknown   \n",
       "1   BRIDGEPORT, CA  United States  38.167361 -95.478611      Unknown   \n",
       "2    Saltville, VA  United States  36.922223 -81.878056      Unknown   \n",
       "3       EUREKA, CA  United States  38.167361 -95.478611      Unknown   \n",
       "4       Canton, OH  United States  38.167361 -95.478611      Unknown   \n",
       "\n",
       "  Airport.Name  ...    Engine.Type Purpose.of.flight Total.Fatal.Injuries  \\\n",
       "0      Unknown  ...  Reciprocating          Personal                  2.0   \n",
       "1      Unknown  ...  Reciprocating          Personal                  4.0   \n",
       "2      Unknown  ...  Reciprocating          Personal                  3.0   \n",
       "3      Unknown  ...  Reciprocating          Personal                  2.0   \n",
       "4      Unknown  ...        Unknown          Personal                  1.0   \n",
       "\n",
       "  Total.Serious.Injuries Total.Minor.Injuries Total.Uninjured  \\\n",
       "0                    0.0                  0.0             0.0   \n",
       "1                    0.0                  0.0             0.0   \n",
       "2                    0.0                  0.0             1.0   \n",
       "3                    0.0                  0.0             0.0   \n",
       "4                    2.0                  0.0             0.0   \n",
       "\n",
       "   Weather.Condition Broad.phase.of.flight   Report.Status  Publication.Date  \n",
       "0                UNK                Cruise  Probable Cause           Unknown  \n",
       "1                UNK               Unknown  Probable Cause        19-09-1996  \n",
       "2                IMC                Cruise  Probable Cause        26-02-2007  \n",
       "3                IMC                Cruise  Probable Cause        12-09-2000  \n",
       "4                VMC              Approach  Probable Cause        16-04-1980  \n",
       "\n",
       "[5 rows x 27 columns]"
      ]
     },
     "execution_count": 16,
     "metadata": {},
     "output_type": "execute_result"
    }
   ],
   "source": [
    "print(df_clean.info())\n",
    "df_clean.head()"
   ]
  },
  {
   "cell_type": "markdown",
   "metadata": {},
   "source": [
    "Now let us save  a copy of the cleaned DataFrame and begin our analysis"
   ]
  },
  {
   "cell_type": "code",
   "execution_count": 17,
   "metadata": {},
   "outputs": [],
   "source": [
    "df_clean.to_csv('AviationData_cleaned.csv')"
   ]
  },
  {
   "cell_type": "markdown",
   "metadata": {},
   "source": [
    "# 5)Exploratory Data Analysis"
   ]
  },
  {
   "cell_type": "markdown",
   "metadata": {},
   "source": [
    "## i)Risk anaylsis by Aircraft Model and Manufacturer"
   ]
  },
  {
   "cell_type": "markdown",
   "metadata": {},
   "source": [
    "### Number of accidents per make and model"
   ]
  },
  {
   "cell_type": "code",
   "execution_count": 18,
   "metadata": {},
   "outputs": [
    {
     "data": {
      "text/html": [
       "<div>\n",
       "<style scoped>\n",
       "    .dataframe tbody tr th:only-of-type {\n",
       "        vertical-align: middle;\n",
       "    }\n",
       "\n",
       "    .dataframe tbody tr th {\n",
       "        vertical-align: top;\n",
       "    }\n",
       "\n",
       "    .dataframe thead th {\n",
       "        text-align: right;\n",
       "    }\n",
       "</style>\n",
       "<table border=\"1\" class=\"dataframe\">\n",
       "  <thead>\n",
       "    <tr style=\"text-align: right;\">\n",
       "      <th></th>\n",
       "      <th>Make</th>\n",
       "      <th>Model</th>\n",
       "      <th>Total.Fatal.Injuries</th>\n",
       "      <th>Total.Serious.Injuries</th>\n",
       "      <th>Total.Minor.Injuries</th>\n",
       "      <th>Total.Uninjured</th>\n",
       "    </tr>\n",
       "  </thead>\n",
       "  <tbody>\n",
       "    <tr>\n",
       "      <th>0</th>\n",
       "      <td>107.5 Flying Corporation</td>\n",
       "      <td>One Design DR 107</td>\n",
       "      <td>1.0</td>\n",
       "      <td>0.0</td>\n",
       "      <td>0.0</td>\n",
       "      <td>1.0</td>\n",
       "    </tr>\n",
       "    <tr>\n",
       "      <th>1</th>\n",
       "      <td>1200</td>\n",
       "      <td>G103</td>\n",
       "      <td>0.0</td>\n",
       "      <td>1.0</td>\n",
       "      <td>0.0</td>\n",
       "      <td>1.0</td>\n",
       "    </tr>\n",
       "    <tr>\n",
       "      <th>2</th>\n",
       "      <td>177MF LLC</td>\n",
       "      <td>PITTS MODEL 12</td>\n",
       "      <td>0.0</td>\n",
       "      <td>2.0</td>\n",
       "      <td>0.0</td>\n",
       "      <td>0.0</td>\n",
       "    </tr>\n",
       "    <tr>\n",
       "      <th>3</th>\n",
       "      <td>1977 Colfer-chan</td>\n",
       "      <td>STEEN SKYBOLT</td>\n",
       "      <td>0.0</td>\n",
       "      <td>0.0</td>\n",
       "      <td>1.0</td>\n",
       "      <td>1.0</td>\n",
       "    </tr>\n",
       "    <tr>\n",
       "      <th>4</th>\n",
       "      <td>1st Ftr Gp</td>\n",
       "      <td>FOCKE-WULF 190</td>\n",
       "      <td>1.0</td>\n",
       "      <td>0.0</td>\n",
       "      <td>0.0</td>\n",
       "      <td>0.0</td>\n",
       "    </tr>\n",
       "    <tr>\n",
       "      <th>5</th>\n",
       "      <td>2000 Mccoy</td>\n",
       "      <td>Genesis</td>\n",
       "      <td>1.0</td>\n",
       "      <td>0.0</td>\n",
       "      <td>0.0</td>\n",
       "      <td>1.0</td>\n",
       "    </tr>\n",
       "    <tr>\n",
       "      <th>6</th>\n",
       "      <td>2001 Mcgirl</td>\n",
       "      <td>QUESTAIR VENTURE</td>\n",
       "      <td>0.0</td>\n",
       "      <td>1.0</td>\n",
       "      <td>0.0</td>\n",
       "      <td>1.0</td>\n",
       "    </tr>\n",
       "    <tr>\n",
       "      <th>7</th>\n",
       "      <td>2003 Nash</td>\n",
       "      <td>Kitfox II</td>\n",
       "      <td>0.0</td>\n",
       "      <td>0.0</td>\n",
       "      <td>1.0</td>\n",
       "      <td>1.0</td>\n",
       "    </tr>\n",
       "    <tr>\n",
       "      <th>8</th>\n",
       "      <td>2007 Savage Air LLC</td>\n",
       "      <td>EPIC LT</td>\n",
       "      <td>0.0</td>\n",
       "      <td>0.0</td>\n",
       "      <td>0.0</td>\n",
       "      <td>4.0</td>\n",
       "    </tr>\n",
       "    <tr>\n",
       "      <th>9</th>\n",
       "      <td>2021FX3 LLC</td>\n",
       "      <td>CCX-2000</td>\n",
       "      <td>0.0</td>\n",
       "      <td>0.0</td>\n",
       "      <td>0.0</td>\n",
       "      <td>4.0</td>\n",
       "    </tr>\n",
       "  </tbody>\n",
       "</table>\n",
       "</div>"
      ],
      "text/plain": [
       "                       Make              Model  Total.Fatal.Injuries  \\\n",
       "0  107.5 Flying Corporation  One Design DR 107                   1.0   \n",
       "1                      1200               G103                   0.0   \n",
       "2                 177MF LLC     PITTS MODEL 12                   0.0   \n",
       "3          1977 Colfer-chan      STEEN SKYBOLT                   0.0   \n",
       "4                1st Ftr Gp     FOCKE-WULF 190                   1.0   \n",
       "5                2000 Mccoy            Genesis                   1.0   \n",
       "6               2001 Mcgirl   QUESTAIR VENTURE                   0.0   \n",
       "7                 2003 Nash          Kitfox II                   0.0   \n",
       "8       2007 Savage Air LLC            EPIC LT                   0.0   \n",
       "9               2021FX3 LLC           CCX-2000                   0.0   \n",
       "\n",
       "   Total.Serious.Injuries  Total.Minor.Injuries  Total.Uninjured  \n",
       "0                     0.0                   0.0              1.0  \n",
       "1                     1.0                   0.0              1.0  \n",
       "2                     2.0                   0.0              0.0  \n",
       "3                     0.0                   1.0              1.0  \n",
       "4                     0.0                   0.0              0.0  \n",
       "5                     0.0                   0.0              1.0  \n",
       "6                     1.0                   0.0              1.0  \n",
       "7                     0.0                   1.0              1.0  \n",
       "8                     0.0                   0.0              4.0  \n",
       "9                     0.0                   0.0              4.0  "
      ]
     },
     "execution_count": 18,
     "metadata": {},
     "output_type": "execute_result"
    }
   ],
   "source": [
    "df_grouped=df_clean.groupby(['Make','Model'])[['Total.Fatal.Injuries','Total.Serious.Injuries','Total.Minor.Injuries','Total.Uninjured']].sum().reset_index()\n",
    "df_grouped.head(10)\n",
    "\n"
   ]
  },
  {
   "cell_type": "code",
   "execution_count": 19,
   "metadata": {},
   "outputs": [
    {
     "name": "stdout",
     "output_type": "stream",
     "text": [
      "         Make      Model  Total_Accidents\n",
      "5755   Cessna        152             2168\n",
      "5777   Cessna        172             1254\n",
      "5821   Cessna       172N              996\n",
      "15099   Piper  PA-28-140              812\n",
      "5730   Cessna        150              716\n",
      "5819   Cessna       172M              667\n",
      "5824   Cessna       172P              597\n",
      "14993   Piper      PA-18              539\n",
      "5754   Cessna       150M              539\n",
      "15108   Piper  PA-28-161              502\n"
     ]
    }
   ],
   "source": [
    "accidents_by_model = df_clean.groupby(['Make', 'Model'])['Event.Id'].count().reset_index()\n",
    "accidents_by_model.rename(columns={'Event.Id': 'Total_Accidents'}, inplace=True)\n",
    "\n",
    "# Sort from highest to lowest accidents\n",
    "accidents_by_model = accidents_by_model.sort_values(by='Total_Accidents', ascending=False)\n",
    "\n",
    "print(accidents_by_model.head(10)) "
   ]
  },
  {
   "cell_type": "markdown",
   "metadata": {},
   "source": [
    "### Number of Fatality Rate by Make and Model"
   ]
  },
  {
   "cell_type": "code",
   "execution_count": 20,
   "metadata": {},
   "outputs": [
    {
     "name": "stdout",
     "output_type": "stream",
     "text": [
      "                    Make        Model  Total.Fatal.Injuries  Total_Accidents  \\\n",
      "4077              Boeing      747-168                 349.0                1   \n",
      "19048            Tupolev       TU-154                 349.0                1   \n",
      "4179              Boeing   767-366-ER                 217.0                1   \n",
      "2449              BOEING    777 - 206                 534.0                3   \n",
      "13073  Mcdonnell Douglas      DC-8-62                 174.0                1   \n",
      "1293    Airbus Industrie        A 310                 169.0                1   \n",
      "325               AIRBUS   A320 - 216                 162.0                1   \n",
      "8278             Embraer  E135 Legacy                 154.0                1   \n",
      "2498              BOEING        MD-83                 153.0                1   \n",
      "310               AIRBUS         A310                 152.0                1   \n",
      "\n",
      "       Fatality_Rate  \n",
      "4077           349.0  \n",
      "19048          349.0  \n",
      "4179           217.0  \n",
      "2449           178.0  \n",
      "13073          174.0  \n",
      "1293           169.0  \n",
      "325            162.0  \n",
      "8278           154.0  \n",
      "2498           153.0  \n",
      "310            152.0  \n"
     ]
    }
   ],
   "source": [
    "fatalities_by_model = df_clean.groupby(['Make', 'Model'])[['Total.Fatal.Injuries']].sum().reset_index()\n",
    "fatalities_by_model['Total_Accidents'] = df_clean.groupby(['Make', 'Model'])['Event.Id'].count().values\n",
    "\n",
    "fatalities_by_model['Fatality_Rate'] = fatalities_by_model['Total.Fatal.Injuries'] / fatalities_by_model['Total_Accidents']\n",
    "\n",
    "# Sort by highest fatality rate\n",
    "fatalities_by_model = fatalities_by_model.sort_values(by='Fatality_Rate', ascending=False)\n",
    "print(fatalities_by_model.head(10))  # Show top 10 most fatal aircraft models"
   ]
  },
  {
   "cell_type": "markdown",
   "metadata": {},
   "source": [
    "### Barh graph plot for top 10 models by Fatality Rate"
   ]
  },
  {
   "cell_type": "code",
   "execution_count": 21,
   "metadata": {},
   "outputs": [
    {
     "data": {
      "image/png": "[encoded data removed]",
      "text/plain": [
       "<Figure size 864x432 with 1 Axes>"
      ]
     },
     "metadata": {
      "needs_background": "light"
     },
     "output_type": "display_data"
    }
   ],
   "source": [
    "\n",
    "top_10_fatal = fatalities_by_model.head(10)\n",
    "\n",
    "# Create a figure and axis\n",
    "plt.figure(figsize=(12, 6))\n",
    "bars = plt.bar(\n",
    "    top_10_fatal['Make'] + ' ' + top_10_fatal['Model'],  # Combine Make and Model for labels\n",
    "    top_10_fatal['Fatality_Rate'],\n",
    "    color='red',\n",
    "    alpha=0.7\n",
    ")\n",
    "\n",
    "# Add labels and title\n",
    "plt.xlabel('Aircraft Model', fontsize=12)\n",
    "plt.ylabel('Fatality Rate (Fatalities per Accident)', fontsize=12)\n",
    "plt.title('Top 10 Aircraft Models by Fatality Rate', fontsize=14, fontweight='bold')\n",
    "\n",
    "# Rotate x-axis labels for better readability\n",
    "plt.xticks(rotation=45, ha='right')\n",
    "\n",
    "# Add value labels on top of bars\n",
    "for bar in bars:\n",
    "    height = bar.get_height()\n",
    "    plt.text(\n",
    "        bar.get_x() + bar.get_width() / 2,\n",
    "        height,\n",
    "        f'{height:.2f}',\n",
    "        ha='center',\n",
    "        va='bottom',\n",
    "        fontsize=9\n",
    "    )\n",
    "\n",
    "# Adjust layout to prevent clipping\n",
    "plt.tight_layout()\n",
    "\n",
    "# Show the plot\n",
    "plt.show()"
   ]
  },
  {
   "cell_type": "markdown",
   "metadata": {},
   "source": [
    "### Survival Rate for Each Aircraft Model"
   ]
  },
  {
   "cell_type": "code",
   "execution_count": 22,
   "metadata": {},
   "outputs": [
    {
     "name": "stdout",
     "output_type": "stream",
     "text": [
      "                    Make                 Model  Total.Uninjured  \\\n",
      "9771             Grumman                  C-1A              3.0   \n",
      "11336               Judd         Challenger II              1.0   \n",
      "11339              Jurca          3/4 SPITFIRE              1.0   \n",
      "11344               Just  JUST AIRCRAFT (HIGHL              1.0   \n",
      "11346  Just Aircraft Llc            Highlander              1.0   \n",
      "11348    K. A. Covington           LANCAIR 320              1.0   \n",
      "11351  KAKELDEY RONALD O        SMITH PA12 EXP              2.0   \n",
      "11352   KALDOR GREGORY N            ZENITH 701              1.0   \n",
      "11353      KALMAN GEORGE           LANCAIR 360              2.0   \n",
      "11354              KAMAN                K-1200              1.0   \n",
      "\n",
      "       Total.Fatal.Injuries  Survival_Rate  \n",
      "9771                    0.0            1.0  \n",
      "11336                   0.0            1.0  \n",
      "11339                   0.0            1.0  \n",
      "11344                   0.0            1.0  \n",
      "11346                   0.0            1.0  \n",
      "11348                   0.0            1.0  \n",
      "11351                   0.0            1.0  \n",
      "11352                   0.0            1.0  \n",
      "11353                   0.0            1.0  \n",
      "11354                   0.0            1.0  \n"
     ]
    }
   ],
   "source": [
    "survival_by_model = df_clean.groupby(['Make', 'Model'])[['Total.Uninjured', 'Total.Fatal.Injuries']].sum().reset_index()\n",
    "survival_by_model['Survival_Rate'] = survival_by_model['Total.Uninjured'] / (survival_by_model['Total.Uninjured'] + survival_by_model['Total.Fatal.Injuries'])\n",
    "\n",
    "# Sort by highest survival rate\n",
    "survival_by_model = survival_by_model.sort_values(by='Survival_Rate', ascending=False)\n",
    "\n",
    "print(survival_by_model.head(10))  # Show top 10 safest aircraft models"
   ]
  },
  {
   "cell_type": "markdown",
   "metadata": {},
   "source": [
    "### Barh graph plot for survival Rate by make and model"
   ]
  },
  {
   "cell_type": "code",
   "execution_count": 23,
   "metadata": {},
   "outputs": [
    {
     "data": {
      "image/png": "[encoded data removed]",
      "text/plain": [
       "<Figure size 864x432 with 1 Axes>"
      ]
     },
     "metadata": {
      "needs_background": "light"
     },
     "output_type": "display_data"
    }
   ],
   "source": [
    "top_10_safe = survival_by_model.head(10)\n",
    "\n",
    "# Create a figure and axis\n",
    "plt.figure(figsize=(12, 6))\n",
    "bars = plt.bar(\n",
    "    top_10_safe['Make'] + ' ' + top_10_safe['Model'],  # Combine Make and Model for labels\n",
    "    top_10_safe['Survival_Rate'],\n",
    "    color='green',\n",
    "    alpha=0.7\n",
    ")\n",
    "\n",
    "# Add labels and title\n",
    "plt.xlabel('Aircraft Model', fontsize=12)\n",
    "plt.ylabel('Survival Rate', fontsize=12)\n",
    "plt.title('Top 10 Safest Aircraft Models by Survival Rate', fontsize=14, fontweight='bold')\n",
    "\n",
    "# Rotate x-axis labels for readability\n",
    "plt.xticks(rotation=45, ha='right')\n",
    "\n",
    "# Add percentage labels on bars\n",
    "for bar in bars:\n",
    "    height = bar.get_height()\n",
    "    plt.text(\n",
    "        bar.get_x() + bar.get_width() / 2,\n",
    "        height,\n",
    "        f'{height:.1%}',  # Format as percentage (e.g., 95.2%)\n",
    "        ha='center',\n",
    "        va='bottom',\n",
    "        fontsize=9\n",
    "    )\n",
    "\n",
    "# Adjust layout\n",
    "plt.tight_layout()\n",
    "\n",
    "# Show the plot\n",
    "plt.show()"
   ]
  },
  {
   "cell_type": "markdown",
   "metadata": {},
   "source": [
    "Understanding our bargraph above(Top 10 safest Models by Survival Rate)"
   ]
  },
  {
   "cell_type": "code",
   "execution_count": 24,
   "metadata": {},
   "outputs": [
    {
     "name": "stdout",
     "output_type": "stream",
     "text": [
      "count    16739.000000\n",
      "mean         0.725235\n",
      "std          0.399429\n",
      "min          0.000000\n",
      "25%          0.500000\n",
      "50%          1.000000\n",
      "75%          1.000000\n",
      "max          1.000000\n",
      "Name: Survival_Rate, dtype: float64\n"
     ]
    }
   ],
   "source": [
    "print(survival_by_model['Survival_Rate'].describe())"
   ]
  },
  {
   "cell_type": "markdown",
   "metadata": {},
   "source": [
    "From the survival rate.describe()method we can see that a large portion of our aircrafts have perfect survival records of 100% that explains our bargraph above "
   ]
  },
  {
   "cell_type": "markdown",
   "metadata": {},
   "source": [
    "### Barh graph  for  top 10 aircraft model by total uninjured"
   ]
  },
  {
   "cell_type": "code",
   "execution_count": 25,
   "metadata": {},
   "outputs": [
    {
     "data": {
      "image/png": "[encoded data removed]",
      "text/plain": [
       "<Figure size 432x288 with 1 Axes>"
      ]
     },
     "metadata": {
      "needs_background": "light"
     },
     "output_type": "display_data"
    }
   ],
   "source": [
    "top_10_safe = survival_by_model.sort_values('Total.Uninjured', ascending=False).head(10)\n",
    "\n",
    "plt.bar(\n",
    "    top_10_safe['Make'] + ' ' + top_10_safe['Model'],\n",
    "    top_10_safe['Total.Uninjured'],\n",
    "    color='blue',\n",
    "    alpha=0.7\n",
    ")\n",
    "plt.title('Top 10 Aircraft Models by Total Uninjured Passengers')\n",
    "plt.ylabel('Uninjured Count')\n",
    "plt.xticks(rotation=45, ha='right')\n",
    "plt.show()"
   ]
  },
  {
   "cell_type": "markdown",
   "metadata": {},
   "source": [
    "### Finding average fatality rate by Make and Model"
   ]
  },
  {
   "cell_type": "code",
   "execution_count": 26,
   "metadata": {},
   "outputs": [
    {
     "name": "stdout",
     "output_type": "stream",
     "text": [
      "\n",
      "Top 10 Models by Fatality Rate (Per Accident):\n"
     ]
    },
    {
     "data": {
      "text/html": [
       "<div>\n",
       "<style scoped>\n",
       "    .dataframe tbody tr th:only-of-type {\n",
       "        vertical-align: middle;\n",
       "    }\n",
       "\n",
       "    .dataframe tbody tr th {\n",
       "        vertical-align: top;\n",
       "    }\n",
       "\n",
       "    .dataframe thead th {\n",
       "        text-align: right;\n",
       "    }\n",
       "</style>\n",
       "<table border=\"1\" class=\"dataframe\">\n",
       "  <thead>\n",
       "    <tr style=\"text-align: right;\">\n",
       "      <th></th>\n",
       "      <th>Make</th>\n",
       "      <th>Model</th>\n",
       "      <th>Avg_Fatalities_Per_Accident</th>\n",
       "    </tr>\n",
       "  </thead>\n",
       "  <tbody>\n",
       "    <tr>\n",
       "      <th>4077</th>\n",
       "      <td>Boeing</td>\n",
       "      <td>747-168</td>\n",
       "      <td>349.0</td>\n",
       "    </tr>\n",
       "    <tr>\n",
       "      <th>19048</th>\n",
       "      <td>Tupolev</td>\n",
       "      <td>TU-154</td>\n",
       "      <td>349.0</td>\n",
       "    </tr>\n",
       "    <tr>\n",
       "      <th>4179</th>\n",
       "      <td>Boeing</td>\n",
       "      <td>767-366-ER</td>\n",
       "      <td>217.0</td>\n",
       "    </tr>\n",
       "    <tr>\n",
       "      <th>2449</th>\n",
       "      <td>BOEING</td>\n",
       "      <td>777 - 206</td>\n",
       "      <td>178.0</td>\n",
       "    </tr>\n",
       "    <tr>\n",
       "      <th>13073</th>\n",
       "      <td>Mcdonnell Douglas</td>\n",
       "      <td>DC-8-62</td>\n",
       "      <td>174.0</td>\n",
       "    </tr>\n",
       "    <tr>\n",
       "      <th>1293</th>\n",
       "      <td>Airbus Industrie</td>\n",
       "      <td>A 310</td>\n",
       "      <td>169.0</td>\n",
       "    </tr>\n",
       "    <tr>\n",
       "      <th>325</th>\n",
       "      <td>AIRBUS</td>\n",
       "      <td>A320 - 216</td>\n",
       "      <td>162.0</td>\n",
       "    </tr>\n",
       "    <tr>\n",
       "      <th>8278</th>\n",
       "      <td>Embraer</td>\n",
       "      <td>E135 Legacy</td>\n",
       "      <td>154.0</td>\n",
       "    </tr>\n",
       "    <tr>\n",
       "      <th>2498</th>\n",
       "      <td>BOEING</td>\n",
       "      <td>MD-83</td>\n",
       "      <td>153.0</td>\n",
       "    </tr>\n",
       "    <tr>\n",
       "      <th>310</th>\n",
       "      <td>AIRBUS</td>\n",
       "      <td>A310</td>\n",
       "      <td>152.0</td>\n",
       "    </tr>\n",
       "  </tbody>\n",
       "</table>\n",
       "</div>"
      ],
      "text/plain": [
       "                    Make        Model  Avg_Fatalities_Per_Accident\n",
       "4077              Boeing      747-168                        349.0\n",
       "19048            Tupolev       TU-154                        349.0\n",
       "4179              Boeing   767-366-ER                        217.0\n",
       "2449              BOEING    777 - 206                        178.0\n",
       "13073  Mcdonnell Douglas      DC-8-62                        174.0\n",
       "1293    Airbus Industrie        A 310                        169.0\n",
       "325               AIRBUS   A320 - 216                        162.0\n",
       "8278             Embraer  E135 Legacy                        154.0\n",
       "2498              BOEING        MD-83                        153.0\n",
       "310               AIRBUS         A310                        152.0"
      ]
     },
     "metadata": {},
     "output_type": "display_data"
    }
   ],
   "source": [
    "# Group by Make & Model, calculate mean fatalities per accident\n",
    "df_fatality_rate = (\n",
    "    df_clean.groupby(['Make', 'Model'])['Total.Fatal.Injuries']\n",
    "    .mean()\n",
    "    .reset_index()\n",
    "    .rename(columns={'Total.Fatal.Injuries': 'Avg_Fatalities_Per_Accident'})\n",
    "    .sort_values('Avg_Fatalities_Per_Accident', ascending=False)\n",
    ")\n",
    "\n",
    "print(\"\\nTop 10 Models by Fatality Rate (Per Accident):\")\n",
    "display(df_fatality_rate.head(10))\n"
   ]
  },
  {
   "cell_type": "markdown",
   "metadata": {},
   "source": [
    "## ii)Mechanical Failure by Aircraft Type"
   ]
  },
  {
   "cell_type": "code",
   "execution_count": 27,
   "metadata": {},
   "outputs": [
    {
     "name": "stdout",
     "output_type": "stream",
     "text": [
      "['Probable Cause' 'Factual' 'Foreign' ...\n",
      " 'The pilot did not ensure adequate clearance from construction vehicles during taxi.'\n",
      " 'The pilot\\x92s failure to secure the magneto switch before attempting to hand rotate the engine which resulted in an inadvertent engine start, a runaway airplane, and subsequent impact with parked airplanes. Contributing to the accident was the failure to properly secure the airplane with chocks.'\n",
      " 'The pilot\\x92s loss of control due to a wind gust during landing.']\n"
     ]
    }
   ],
   "source": [
    "#finding out if any of the report status given indicated mechanical failure\n",
    "print(df_clean['Report.Status'].unique())"
   ]
  },
  {
   "cell_type": "code",
   "execution_count": 28,
   "metadata": {},
   "outputs": [],
   "source": [
    "mechanical_failures = df_clean[df_clean['Report.Status'].str.contains('Mechanical Failure', na=False, case=False)]"
   ]
  },
  {
   "cell_type": "code",
   "execution_count": 29,
   "metadata": {},
   "outputs": [
    {
     "name": "stdout",
     "output_type": "stream",
     "text": [
      "  Broad.phase.of.flight Amateur.Built  Number.of.Engines    Engine.Type  \\\n",
      "0               Unknown            No                1.0  Reciprocating   \n",
      "2               Unknown            No                2.0  Reciprocating   \n",
      "5               Unknown           Yes                1.0  Reciprocating   \n",
      "3               Unknown            No                2.0      Turbo Fan   \n",
      "1               Unknown            No                1.0      Turbo Fan   \n",
      "4               Unknown            No                2.0      Turbo Jet   \n",
      "\n",
      "   Failure_Count  \n",
      "0             11  \n",
      "2              3  \n",
      "5              3  \n",
      "3              2  \n",
      "1              1  \n",
      "4              1  \n"
     ]
    }
   ],
   "source": [
    "# Group by Broad Phase of Flight, Amateur Built, Number of Engines, and Engine Type\n",
    "failure_counts = mechanical_failures.groupby(\n",
    "    ['Broad.phase.of.flight', 'Amateur.Built', 'Number.of.Engines', 'Engine.Type']\n",
    ").size().reset_index(name='Failure_Count')\n",
    "\n",
    "# Sort by the highest number of failures\n",
    "failure_counts = failure_counts.sort_values(by='Failure_Count', ascending=False)\n",
    "\n",
    "# Display the top 10 aircraft types with the most failures\n",
    "print(failure_counts.head(10))"
   ]
  },
  {
   "cell_type": "markdown",
   "metadata": {},
   "source": [
    "### Bar graph"
   ]
  },
  {
   "cell_type": "code",
   "execution_count": 30,
   "metadata": {},
   "outputs": [
    {
     "data": {
      "image/png": "[encoded data removed]",
      "text/plain": [
       "<Figure size 864x576 with 1 Axes>"
      ]
     },
     "metadata": {
      "needs_background": "light"
     },
     "output_type": "display_data"
    }
   ],
   "source": [
    "# Create a simplified label for plotting\n",
    "failure_counts['Configuration'] = (\n",
    "    failure_counts['Broad.phase.of.flight'] + \" | \" +\n",
    "    failure_counts['Amateur.Built'].astype(str) + \" | \" +\n",
    "    failure_counts['Number.of.Engines'].astype(str) + \" | \" +\n",
    "    failure_counts['Engine.Type']\n",
    ")\n",
    "\n",
    "# Plot top 15 configurations\n",
    "plt.figure(figsize=(12, 8))\n",
    "sns.barplot(\n",
    "    y='Configuration',\n",
    "    x='Failure_Count',\n",
    "    data=failure_counts.head(15),\n",
    "    palette='Reds_r',\n",
    "    alpha=0.8\n",
    ")\n",
    "\n",
    "# Customize plot\n",
    "plt.title('Top Aircraft Configurations by Mechanical Failures', fontsize=14, pad=20)\n",
    "plt.xlabel('Number of Mechanical Failures', fontsize=12)\n",
    "plt.ylabel('Flight Phase | Amateur Built | Engine Count | Engine Type', fontsize=10)\n",
    "plt.grid(axis='x', alpha=0.3)\n",
    "\n",
    "# Add value labels\n",
    "for i, value in enumerate(failure_counts.head(15)['Failure_Count']):\n",
    "    plt.text(value + 0.5, i, str(value), va='center')\n",
    "\n",
    "plt.tight_layout()\n",
    "plt.show()"
   ]
  },
  {
   "cell_type": "markdown",
   "metadata": {},
   "source": [
    "## ii)Accidents Hotspots by Location"
   ]
  },
  {
   "cell_type": "code",
   "execution_count": 31,
   "metadata": {},
   "outputs": [
    {
     "name": "stdout",
     "output_type": "stream",
     "text": [
      "             Country         Location   Latitude  Longitude  Total_Accidents\n",
      "5104   United States    ANCHORAGE, AK  38.167361 -95.478611              360\n",
      "22219  United States        MIAMI, FL  38.167361 -95.478611              185\n",
      "4892   United States  ALBUQUERQUE, NM  38.167361 -95.478611              173\n",
      "9292   United States      CHICAGO, IL  38.167361 -95.478611              171\n",
      "17119  United States      HOUSTON, TX  38.167361 -95.478611              161\n",
      "13546  United States    FAIRBANKS, AK  38.167361 -95.478611              128\n",
      "25650  United States      ORLANDO, FL  38.167361 -95.478611              116\n",
      "12975  United States    ENGLEWOOD, CO  38.167361 -95.478611              112\n",
      "33021  United States       TUCSON, AZ  38.167361 -95.478611              105\n",
      "5890   United States    Anchorage, AK  38.167361 -95.478611              102\n"
     ]
    }
   ],
   "source": [
    "accidents_by_location = df_clean.groupby(['Country', 'Location', 'Latitude', 'Longitude'])['Event.Id'].count().reset_index()\n",
    "accidents_by_location.rename(columns={'Event.Id': 'Total_Accidents'}, inplace=True)\n",
    "\n",
    "# Display top accident locations\n",
    "print(accidents_by_location.sort_values(by='Total_Accidents', ascending=False).head(10))"
   ]
  },
  {
   "cell_type": "markdown",
   "metadata": {},
   "source": [
    "Explanation:\n",
    "\n",
    "This groups data by Country, Location (City), Latitude, and Longitude.\n",
    "\n",
    "It counts the number of accidents (Event.Id count) for each location."
   ]
  },
  {
   "cell_type": "markdown",
   "metadata": {},
   "source": [
    "### Scatter plot"
   ]
  },
  {
   "cell_type": "code",
   "execution_count": 32,
   "metadata": {},
   "outputs": [
    {
     "data": {
      "image/png": "[encoded data removed]",
      "text/plain": [
       "<Figure size 864x432 with 1 Axes>"
      ]
     },
     "metadata": {
      "needs_background": "light"
     },
     "output_type": "display_data"
    }
   ],
   "source": [
    "top_countries = df_clean['Country'].value_counts().head(10).index\n",
    "df_top_countries = df_clean[df_clean['Country'].isin(top_countries)]\n",
    "\n",
    "plt.figure(figsize=(12, 6))\n",
    "sns.scatterplot(x='Longitude', y='Latitude', hue='Country', data=df_top_countries, alpha=0.6, palette='tab10')\n",
    "\n",
    "plt.xlabel(\"Longitude\")\n",
    "plt.ylabel(\"Latitude\")\n",
    "plt.title(\"Aircraft Accidents by Top 10 Countries\")\n",
    "\n",
    "plt.legend(loc='upper right', bbox_to_anchor=(1.2, 1))\n",
    "plt.grid(True)\n",
    "\n",
    "plt.show()"
   ]
  },
  {
   "cell_type": "markdown",
   "metadata": {},
   "source": [
    "## iv)Accidents by Broad Phase of Flight"
   ]
  },
  {
   "cell_type": "code",
   "execution_count": 33,
   "metadata": {},
   "outputs": [
    {
     "name": "stdout",
     "output_type": "stream",
     "text": [
      "Unknown        27713\n",
      "Landing        15428\n",
      "Takeoff        12493\n",
      "Cruise         10269\n",
      "Maneuvering     8144\n",
      "Approach        6546\n",
      "Climb           2034\n",
      "Taxi            1958\n",
      "Descent         1887\n",
      "Go-around       1353\n",
      "Standing         945\n",
      "Other            119\n",
      "Name: Broad.phase.of.flight, dtype: int64\n"
     ]
    }
   ],
   "source": [
    "# Count the number of accidents by Broad Phase of Flight\n",
    "phase_counts = df_clean['Broad.phase.of.flight'].value_counts()\n",
    "\n",
    "# Display the counts\n",
    "print(phase_counts)"
   ]
  },
  {
   "cell_type": "markdown",
   "metadata": {},
   "source": [
    "### Bar graph to visualize"
   ]
  },
  {
   "cell_type": "code",
   "execution_count": 35,
   "metadata": {
    "scrolled": true
   },
   "outputs": [
    {
     "data": {
      "image/png": "[encoded data removed]",
      "text/plain": [
       "<Figure size 864x432 with 1 Axes>"
      ]
     },
     "metadata": {
      "needs_background": "light"
     },
     "output_type": "display_data"
    }
   ],
   "source": [
    "import matplotlib.pyplot as plt\n",
    "import seaborn as sns\n",
    "\n",
    "# Count the number of accidents by Broad Phase of Flight\n",
    "phase_counts = df_clean['Broad.phase.of.flight'].value_counts()\n",
    "\n",
    "# Plot\n",
    "plt.figure(figsize=(12, 6))\n",
    "sns.barplot(x=phase_counts.index, y=phase_counts.values, palette='Blues_r')\n",
    "\n",
    "# Add labels and title\n",
    "plt.xlabel('Broad Phase of Flight', fontsize=12)\n",
    "plt.ylabel('Number of Accidents', fontsize=12)\n",
    "plt.title('Number of Aircraft Accidents by Broad Phase of Flight', fontsize=14, fontweight='bold')\n",
    "\n",
    "# Rotate x-axis labels for better readability\n",
    "plt.xticks(rotation=45, ha='right')\n",
    "\n",
    "# Add value labels\n",
    "for index, value in enumerate(phase_counts.values):\n",
    "    plt.text(index, value + 50, str(value), ha='center', fontsize=9)\n",
    "\n",
    "plt.tight_layout()\n",
    "plt.grid(axis='y', alpha=0.3)\n",
    "plt.show()\n"
   ]
  },
  {
   "cell_type": "markdown",
   "metadata": {},
   "source": [
    "# KEY INSIGHTS\n",
    "\n",
    "i)The USA has the highest Number of Accidents.\n",
    "\n",
    "ii)The majority of the accidents occur during takeoff.\n",
    "\n",
    "iii)Single engine aircraft have high fatality rate compared to multi-engine aircraft\n",
    "\n",
    "iv)Aircraft with certain manufactures have lower accidents rate making them good candidates for purchase\n"
   ]
  },
  {
   "cell_type": "markdown",
   "metadata": {},
   "source": [
    "# KEY RECOMMENDATIONS\n",
    "i)Invest in aircraft with low accidents rates\n",
    "\n",
    "ii)Avoid single engine aircraft for commercial purposes\n",
    "\n",
    "iii)Conduct additional check ups for aircraft used during landing and takeoff of phases\n"
   ]
  },
  {
   "cell_type": "markdown",
   "metadata": {},
   "source": [
    "# Conclusion\n",
    "This analysis provides valuable insights into aviation risks.Future Work can include:\n",
    "\n",
    "More granular analysis by aircraft age,maintenance records and weather conditions"
   ]
  },
  {
   "cell_type": "code",
   "execution_count": null,
   "metadata": {},
   "outputs": [],
   "source": []
  }
 ],
 "metadata": {
  "kernelspec": {
   "display_name": "Python (learn-env)",
   "language": "python",
   "name": "learn-env"
  },
  "language_info": {
   "codemirror_mode": {
    "name": "ipython",
    "version": 3
   },
   "file_extension": ".py",
   "mimetype": "text/x-python",
   "name": "python",
   "nbconvert_exporter": "python",
   "pygments_lexer": "ipython3",
   "version": "3.8.5"
  }
 },
 "nbformat": 4,
 "nbformat_minor": 4
}
